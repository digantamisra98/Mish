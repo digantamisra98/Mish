{
 "nbformat": 4,
 "nbformat_minor": 0,
 "metadata": {
  "colab": {
   "name": "Mish_test.ipynb",
   "provenance": [],
   "collapsed_sections": [
    "nyE_MqOoaY_B",
    "IovCm4EhkxdF"
   ]
  },
  "kernelspec": {
   "name": "python3",
   "display_name": "Python 3"
  },
  "accelerator": "GPU"
 },
 "cells": [
  {
   "cell_type": "markdown",
   "metadata": {
    "id": "nyE_MqOoaY_B"
   },
   "source": [
    "# Mish: A Self Regularized Non-Monotonic Activation Function\n",
    "\n",
    "![Imgur](https://i.imgur.com/pAzIGLu.png)\n",
    "\n",
    "\n",
    "---\n",
    "\n",
    "This notebook walks you through integrating [Weights & Biases](https://www.wandb.com/) features in experimenting with Mish activation function. \n",
    "\n",
    "For all the code and pretrained models, please visit the [Official GitHub Repository for Mish](https://github.com/digantamisra98/Mish). \n",
    "\n",
    "Read the paper here: \n",
    "*[Mish: A Self Regularized Non-Monotonic Activation Function](https://www.bmvc2020-conference.com/assets/papers/0928.pdf), BMVC 2020.*\n",
    "\n",
    "View the public WandB Mish Dashboard [here](https://wandb.ai/diganta/Mish?workspace=user-diganta)."
   ]
  },
  {
   "cell_type": "markdown",
   "metadata": {
    "id": "ooY7bdgmnnKW"
   },
   "source": [
    "## Install Packages and Dependencies"
   ]
  },
  {
   "cell_type": "code",
   "metadata": {
    "colab": {
     "base_uri": "https://localhost:8080/"
    },
    "id": "bDVOnDZMMItc",
    "outputId": "2a6df5f4-9b08-4417-e2fc-1dac648d993a"
   },
   "source": [
    "# Clone the repository\n",
    "!git clone https://github.com/digantamisra98/Mish.git"
   ],
   "execution_count": null,
   "outputs": [
    {
     "output_type": "stream",
     "text": [
      "Cloning into 'Mish'...\n",
      "remote: Enumerating objects: 252, done.\u001b[K\n",
      "remote: Counting objects: 100% (252/252), done.\u001b[K\n",
      "remote: Compressing objects: 100% (226/226), done.\u001b[K\n",
      "remote: Total 6557 (delta 151), reused 60 (delta 25), pack-reused 6305\u001b[K\n",
      "Receiving objects: 100% (6557/6557), 135.24 MiB | 39.22 MiB/s, done.\n",
      "Resolving deltas: 100% (4189/4189), done.\n"
     ],
     "name": "stdout"
    }
   ]
  },
  {
   "cell_type": "code",
   "metadata": {
    "colab": {
     "base_uri": "https://localhost:8080/"
    },
    "id": "9bUreYEMN0FF",
    "outputId": "bd8590f5-5e17-4f0e-9ddd-284d65f50622"
   },
   "source": [
    "# Install necessary packages\n",
    "!pip install wandb\n",
    "!pip install ptflops\n",
    "!pip install git+https://github.com/lessw2020/Ranger-Deep-Learning-Optimizer.git"
   ],
   "execution_count": null,
   "outputs": [
    {
     "output_type": "stream",
     "text": [
      "Collecting wandb\n",
      "\u001b[?25l  Downloading https://files.pythonhosted.org/packages/ca/5e/9df94df3bfee51b92b54a5e6fa277d6e1fcdf1f27b1872214b98f55ec0f7/wandb-0.10.12-py2.py3-none-any.whl (1.8MB)\n",
      "\u001b[K     |████████████████████████████████| 1.8MB 13.1MB/s \n",
      "\u001b[?25hCollecting sentry-sdk>=0.4.0\n",
      "\u001b[?25l  Downloading https://files.pythonhosted.org/packages/61/e1/3a9f8ca1009fc6a1e850801f2386e9d88b95147218cbe8c33bc4d60b3695/sentry_sdk-0.19.4-py2.py3-none-any.whl (128kB)\n",
      "\u001b[K     |████████████████████████████████| 133kB 50.2MB/s \n",
      "\u001b[?25hCollecting GitPython>=1.0.0\n",
      "\u001b[?25l  Downloading https://files.pythonhosted.org/packages/24/d1/a7f8fe3df258549b303415157328bfcc63e9b11d06a7ad7a3327f3d32606/GitPython-3.1.11-py3-none-any.whl (159kB)\n",
      "\u001b[K     |████████████████████████████████| 163kB 50.3MB/s \n",
      "\u001b[?25hCollecting docker-pycreds>=0.4.0\n",
      "  Downloading https://files.pythonhosted.org/packages/f5/e8/f6bd1eee09314e7e6dee49cbe2c5e22314ccdb38db16c9fc72d2fa80d054/docker_pycreds-0.4.0-py2.py3-none-any.whl\n",
      "Collecting subprocess32>=3.5.3\n",
      "\u001b[?25l  Downloading https://files.pythonhosted.org/packages/32/c8/564be4d12629b912ea431f1a50eb8b3b9d00f1a0b1ceff17f266be190007/subprocess32-3.5.4.tar.gz (97kB)\n",
      "\u001b[K     |████████████████████████████████| 102kB 11.2MB/s \n",
      "\u001b[?25hRequirement already satisfied: Click>=7.0 in /usr/local/lib/python3.6/dist-packages (from wandb) (7.1.2)\n",
      "Requirement already satisfied: six>=1.13.0 in /usr/local/lib/python3.6/dist-packages (from wandb) (1.15.0)\n",
      "Requirement already satisfied: PyYAML in /usr/local/lib/python3.6/dist-packages (from wandb) (3.13)\n",
      "Collecting watchdog>=0.8.3\n",
      "\u001b[?25l  Downloading https://files.pythonhosted.org/packages/6f/10/500580a0987363a0d9e1f3dd5cb1bba94a47e19266c6ce9dfb6cdd455758/watchdog-0.10.4.tar.gz (98kB)\n",
      "\u001b[K     |████████████████████████████████| 102kB 11.6MB/s \n",
      "\u001b[?25hRequirement already satisfied: promise<3,>=2.0 in /usr/local/lib/python3.6/dist-packages (from wandb) (2.3)\n",
      "Requirement already satisfied: protobuf>=3.12.0 in /usr/local/lib/python3.6/dist-packages (from wandb) (3.12.4)\n",
      "Requirement already satisfied: requests<3,>=2.0.0 in /usr/local/lib/python3.6/dist-packages (from wandb) (2.23.0)\n",
      "Collecting shortuuid>=0.5.0\n",
      "  Downloading https://files.pythonhosted.org/packages/25/a6/2ecc1daa6a304e7f1b216f0896b26156b78e7c38e1211e9b798b4716c53d/shortuuid-1.0.1-py3-none-any.whl\n",
      "Requirement already satisfied: psutil>=5.0.0 in /usr/local/lib/python3.6/dist-packages (from wandb) (5.4.8)\n",
      "Collecting configparser>=3.8.1\n",
      "  Downloading https://files.pythonhosted.org/packages/08/b2/ef713e0e67f6e7ec7d59aea3ee78d05b39c15930057e724cc6d362a8c3bb/configparser-5.0.1-py3-none-any.whl\n",
      "Requirement already satisfied: python-dateutil>=2.6.1 in /usr/local/lib/python3.6/dist-packages (from wandb) (2.8.1)\n",
      "Requirement already satisfied: urllib3>=1.10.0 in /usr/local/lib/python3.6/dist-packages (from sentry-sdk>=0.4.0->wandb) (1.24.3)\n",
      "Requirement already satisfied: certifi in /usr/local/lib/python3.6/dist-packages (from sentry-sdk>=0.4.0->wandb) (2020.11.8)\n",
      "Collecting gitdb<5,>=4.0.1\n",
      "\u001b[?25l  Downloading https://files.pythonhosted.org/packages/48/11/d1800bca0a3bae820b84b7d813ad1eff15a48a64caea9c823fc8c1b119e8/gitdb-4.0.5-py3-none-any.whl (63kB)\n",
      "\u001b[K     |████████████████████████████████| 71kB 9.4MB/s \n",
      "\u001b[?25hCollecting pathtools>=0.1.1\n",
      "  Downloading https://files.pythonhosted.org/packages/e7/7f/470d6fcdf23f9f3518f6b0b76be9df16dcc8630ad409947f8be2eb0ed13a/pathtools-0.1.2.tar.gz\n",
      "Requirement already satisfied: setuptools in /usr/local/lib/python3.6/dist-packages (from protobuf>=3.12.0->wandb) (50.3.2)\n",
      "Requirement already satisfied: chardet<4,>=3.0.2 in /usr/local/lib/python3.6/dist-packages (from requests<3,>=2.0.0->wandb) (3.0.4)\n",
      "Requirement already satisfied: idna<3,>=2.5 in /usr/local/lib/python3.6/dist-packages (from requests<3,>=2.0.0->wandb) (2.10)\n",
      "Collecting smmap<4,>=3.0.1\n",
      "  Downloading https://files.pythonhosted.org/packages/b0/9a/4d409a6234eb940e6a78dfdfc66156e7522262f5f2fecca07dc55915952d/smmap-3.0.4-py2.py3-none-any.whl\n",
      "Building wheels for collected packages: subprocess32, watchdog, pathtools\n",
      "  Building wheel for subprocess32 (setup.py) ... \u001b[?25l\u001b[?25hdone\n",
      "  Created wheel for subprocess32: filename=subprocess32-3.5.4-cp36-none-any.whl size=6489 sha256=a6b4b9f67d4c74b05bb85ea4ee093fe385514140cd06c16dfee4e4f8a73b9946\n",
      "  Stored in directory: /root/.cache/pip/wheels/68/39/1a/5e402bdfdf004af1786c8b853fd92f8c4a04f22aad179654d1\n",
      "  Building wheel for watchdog (setup.py) ... \u001b[?25l\u001b[?25hdone\n",
      "  Created wheel for watchdog: filename=watchdog-0.10.4-cp36-none-any.whl size=74841 sha256=1f79f646c251512277d97a6475c8e7903a957b68cf1310999f5eec4e131b8366\n",
      "  Stored in directory: /root/.cache/pip/wheels/9e/11/04/5160b8815b0cc7cf574bdc6d053e510169ec264c8791b4ec3a\n",
      "  Building wheel for pathtools (setup.py) ... \u001b[?25l\u001b[?25hdone\n",
      "  Created wheel for pathtools: filename=pathtools-0.1.2-cp36-none-any.whl size=8785 sha256=6fda9abb14d906279c53996853026ecaa41e08065fa7c101b33e6126c9526628\n",
      "  Stored in directory: /root/.cache/pip/wheels/0b/04/79/c3b0c3a0266a3cb4376da31e5bfe8bba0c489246968a68e843\n",
      "Successfully built subprocess32 watchdog pathtools\n",
      "Installing collected packages: sentry-sdk, smmap, gitdb, GitPython, docker-pycreds, subprocess32, pathtools, watchdog, shortuuid, configparser, wandb\n",
      "Successfully installed GitPython-3.1.11 configparser-5.0.1 docker-pycreds-0.4.0 gitdb-4.0.5 pathtools-0.1.2 sentry-sdk-0.19.4 shortuuid-1.0.1 smmap-3.0.4 subprocess32-3.5.4 wandb-0.10.12 watchdog-0.10.4\n",
      "Collecting ptflops\n",
      "  Downloading https://files.pythonhosted.org/packages/a9/35/430caa2178d8b901d532f88b9e0701908d049b2958b30a1134e3e3e52ae7/ptflops-0.6.4.tar.gz\n",
      "Requirement already satisfied: torch in /usr/local/lib/python3.6/dist-packages (from ptflops) (1.7.0+cu101)\n",
      "Requirement already satisfied: dataclasses in /usr/local/lib/python3.6/dist-packages (from torch->ptflops) (0.8)\n",
      "Requirement already satisfied: future in /usr/local/lib/python3.6/dist-packages (from torch->ptflops) (0.16.0)\n",
      "Requirement already satisfied: numpy in /usr/local/lib/python3.6/dist-packages (from torch->ptflops) (1.18.5)\n",
      "Requirement already satisfied: typing-extensions in /usr/local/lib/python3.6/dist-packages (from torch->ptflops) (3.7.4.3)\n",
      "Building wheels for collected packages: ptflops\n",
      "  Building wheel for ptflops (setup.py) ... \u001b[?25l\u001b[?25hdone\n",
      "  Created wheel for ptflops: filename=ptflops-0.6.4-cp36-none-any.whl size=8573 sha256=4fc3a3937986e6181f42389681f772d35442a21fb8d6dad65493abe52dbf3de0\n",
      "  Stored in directory: /root/.cache/pip/wheels/4a/98/93/570ea2949d33c4c0960a8e85bc8725fe37706b933d4e5b173b\n",
      "Successfully built ptflops\n",
      "Installing collected packages: ptflops\n",
      "Successfully installed ptflops-0.6.4\n"
     ],
     "name": "stdout"
    }
   ]
  },
  {
   "cell_type": "code",
   "metadata": {
    "id": "wZW2jEBAMRMN"
   },
   "source": [
    "# Change Current Working Directory\n",
    "import os\n",
    "\n",
    "os.chdir(\"/content/Mish/exps\")"
   ],
   "execution_count": null,
   "outputs": []
  },
  {
   "cell_type": "markdown",
   "metadata": {
    "id": "IovCm4EhkxdF"
   },
   "source": [
    "# Output Landscapes\n",
    "\n",
    "![Output Landscapes](https://i.imgur.com/ghjxfnR.png)"
   ]
  },
  {
   "cell_type": "code",
   "metadata": {
    "colab": {
     "base_uri": "https://localhost:8080/"
    },
    "id": "A8FbepxUza7t",
    "outputId": "912f841a-ebc3-4406-faf2-922a96b5c171"
   },
   "source": [
    "# Displays the output landscapes of ReLU, Mish and Swish on the WandB dashboard\n",
    "!python op_landscape.py"
   ],
   "execution_count": null,
   "outputs": [
    {
     "output_type": "stream",
     "text": [
      "\u001b[34m\u001b[1mwandb\u001b[0m: Currently logged in as: \u001b[33mdiganta\u001b[0m (use `wandb login --relogin` to force relogin)\n",
      "\u001b[34m\u001b[1mwandb\u001b[0m: Tracking run with wandb version 0.10.12\n",
      "\u001b[34m\u001b[1mwandb\u001b[0m: Syncing run \u001b[33mvital-universe-6\u001b[0m\n",
      "\u001b[34m\u001b[1mwandb\u001b[0m: ⭐️ View project at \u001b[34m\u001b[4mhttps://wandb.ai/diganta/Mish\u001b[0m\n",
      "\u001b[34m\u001b[1mwandb\u001b[0m: 🚀 View run at \u001b[34m\u001b[4mhttps://wandb.ai/diganta/Mish/runs/s2anobia\u001b[0m\n",
      "\u001b[34m\u001b[1mwandb\u001b[0m: Run data is saved locally in /content/Mish/exps/wandb/run-20201210_000125-s2anobia\n",
      "\u001b[34m\u001b[1mwandb\u001b[0m: Run `wandb offline` to turn off syncing.\n",
      "\n",
      "\n",
      "\u001b[34m\u001b[1mwandb\u001b[0m: Waiting for W&B process to finish, PID 789\n",
      "\u001b[34m\u001b[1mwandb\u001b[0m: Program ended successfully.\n",
      "\u001b[34m\u001b[1mwandb\u001b[0m:                                                                                \n",
      "\u001b[34m\u001b[1mwandb\u001b[0m: Find user logs for this run at: /content/Mish/exps/wandb/run-20201210_000125-s2anobia/logs/debug.log\n",
      "\u001b[34m\u001b[1mwandb\u001b[0m: Find internal logs for this run at: /content/Mish/exps/wandb/run-20201210_000125-s2anobia/logs/debug-internal.log\n",
      "\u001b[34m\u001b[1mwandb\u001b[0m: Run summary:\n",
      "\u001b[34m\u001b[1mwandb\u001b[0m:               _step 0\n",
      "\u001b[34m\u001b[1mwandb\u001b[0m:            _runtime 114\n",
      "\u001b[34m\u001b[1mwandb\u001b[0m:          _timestamp 1607558599\n",
      "\u001b[34m\u001b[1mwandb\u001b[0m: Run history:\n",
      "\u001b[34m\u001b[1mwandb\u001b[0m:        _step ▁\n",
      "\u001b[34m\u001b[1mwandb\u001b[0m:     _runtime ▁\n",
      "\u001b[34m\u001b[1mwandb\u001b[0m:   _timestamp ▁\n",
      "\u001b[34m\u001b[1mwandb\u001b[0m: \n",
      "\u001b[34m\u001b[1mwandb\u001b[0m: Synced 5 W&B file(s), 3 media file(s), 0 artifact file(s) and 1 other file(s)\n",
      "\u001b[34m\u001b[1mwandb\u001b[0m: \n",
      "\u001b[34m\u001b[1mwandb\u001b[0m: Synced \u001b[33mvital-universe-6\u001b[0m: \u001b[34mhttps://wandb.ai/diganta/Mish/runs/s2anobia\u001b[0m\n"
     ],
     "name": "stdout"
    }
   ]
  },
  {
   "cell_type": "markdown",
   "metadata": {
    "id": "NDqmJkrNl6C8"
   },
   "source": [
    "# Hyperparameter Sweeps"
   ]
  },
  {
   "cell_type": "code",
   "metadata": {
    "colab": {
     "base_uri": "https://localhost:8080/"
    },
    "id": "vN-y02QUNW7e",
    "outputId": "b135fe90-dc2f-41cc-8883-878a20e3eacb"
   },
   "source": [
    "# Login to WandB\n",
    "!wandb login"
   ],
   "execution_count": null,
   "outputs": [
    {
     "output_type": "stream",
     "text": [
      "\u001b[34m\u001b[1mwandb\u001b[0m: You can find your API key in your browser here: https://wandb.ai/authorize\n",
      "\u001b[34m\u001b[1mwandb\u001b[0m: Paste an API key from your profile and hit enter: \n",
      "Aborted!\n"
     ],
     "name": "stdout"
    }
   ]
  },
  {
   "cell_type": "code",
   "metadata": {
    "id": "RZ_cxnL9QBA6"
   },
   "source": [
    "# Imports the parameter configuration for the sweep run. To add more hyperparameters in the suite, simply edit the sweep.yaml file.\n",
    "!wandb sweep sweep.yaml    # Outputs the Sweep ID"
   ],
   "execution_count": null,
   "outputs": []
  },
  {
   "cell_type": "code",
   "metadata": {
    "collapsed": true,
    "id": "FyBqqaBHQdDJ"
   },
   "source": [
    "# Uncomment the next line to run the Sweep\n",
    "#!wandb agent {insert sweep ID printed in the above cell's output}"
   ],
   "execution_count": null,
   "outputs": []
  }
 ]
}